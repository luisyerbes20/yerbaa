{
 "cells": [
  {
   "cell_type": "code",
   "execution_count": 30,
   "metadata": {},
   "outputs": [
    {
     "name": "stdout",
     "output_type": "stream",
     "text": [
      "Requirement already satisfied: opencv-python in c:\\users\\cj llanes\\anaconda3\\lib\\site-packages (4.4.0.46)\n",
      "Requirement already satisfied: numpy>=1.13.3 in c:\\users\\cj llanes\\anaconda3\\lib\\site-packages (from opencv-python) (1.19.4)\n"
     ]
    },
    {
     "name": "stderr",
     "output_type": "stream",
     "text": [
      "WARNING: You are using pip version 20.0.2; however, version 20.2.4 is available.\n",
      "You should consider upgrading via the 'c:\\users\\cj llanes\\anaconda3\\python.exe -m pip install --upgrade pip' command.\n"
     ]
    }
   ],
   "source": [
    "!pip install opencv-python"
   ]
  },
  {
   "cell_type": "code",
   "execution_count": 8,
   "metadata": {
    "collapsed": true
   },
   "outputs": [],
   "source": [
    "import cv2"
   ]
  },
  {
   "cell_type": "code",
   "execution_count": 9,
   "metadata": {
    "collapsed": true
   },
   "outputs": [],
   "source": [
    "import numpy as np"
   ]
  },
  {
   "cell_type": "code",
   "execution_count": 12,
   "metadata": {},
   "outputs": [
    {
     "ename": "error",
     "evalue": "OpenCV(4.4.0) C:\\Users\\appveyor\\AppData\\Local\\Temp\\1\\pip-req-build-nxx381if\\opencv\\modules\\imgproc\\src\\resize.cpp:3929: error: (-215:Assertion failed) !ssize.empty() in function 'cv::resize'\n",
     "output_type": "error",
     "traceback": [
      "\u001b[1;31m---------------------------------------------------------------------------\u001b[0m",
      "\u001b[1;31merror\u001b[0m                                     Traceback (most recent call last)",
      "\u001b[1;32m<ipython-input-12-9b9e0e8e4922>\u001b[0m in \u001b[0;36m<module>\u001b[1;34m()\u001b[0m\n\u001b[0;32m     27\u001b[0m \u001b[1;33m\u001b[0m\u001b[0m\n\u001b[0;32m     28\u001b[0m \u001b[0mnewImg\u001b[0m \u001b[1;33m=\u001b[0m \u001b[0mcv2\u001b[0m\u001b[1;33m.\u001b[0m\u001b[0mimread\u001b[0m\u001b[1;33m(\u001b[0m\u001b[1;34m\"page_1.jpeg\"\u001b[0m\u001b[1;33m)\u001b[0m\u001b[1;33m\u001b[0m\u001b[0m\n\u001b[1;32m---> 29\u001b[1;33m \u001b[0mimagen\u001b[0m \u001b[1;33m=\u001b[0m \u001b[0mcv2\u001b[0m\u001b[1;33m.\u001b[0m\u001b[0mresize\u001b[0m\u001b[1;33m(\u001b[0m\u001b[0mnewImg\u001b[0m\u001b[1;33m,\u001b[0m \u001b[1;33m(\u001b[0m\u001b[1;36m0\u001b[0m\u001b[1;33m,\u001b[0m\u001b[1;36m0\u001b[0m\u001b[1;33m)\u001b[0m\u001b[1;33m,\u001b[0m \u001b[0mfx\u001b[0m\u001b[1;33m=\u001b[0m\u001b[1;36m0.50\u001b[0m\u001b[1;33m,\u001b[0m \u001b[0mfy\u001b[0m\u001b[1;33m=\u001b[0m\u001b[1;36m0.50\u001b[0m\u001b[1;33m)\u001b[0m \u001b[1;31m#0.75\u001b[0m\u001b[1;33m\u001b[0m\u001b[0m\n\u001b[0m\u001b[0;32m     30\u001b[0m \u001b[0mgray\u001b[0m \u001b[1;33m=\u001b[0m \u001b[0mcv2\u001b[0m\u001b[1;33m.\u001b[0m\u001b[0mcvtColor\u001b[0m\u001b[1;33m(\u001b[0m\u001b[0mimagen\u001b[0m\u001b[1;33m,\u001b[0m \u001b[0mcv2\u001b[0m\u001b[1;33m.\u001b[0m\u001b[0mCOLOR_BGR2GRAY\u001b[0m\u001b[1;33m)\u001b[0m\u001b[1;33m\u001b[0m\u001b[0m\n\u001b[0;32m     31\u001b[0m \u001b[0mcanny\u001b[0m \u001b[1;33m=\u001b[0m \u001b[0mcv2\u001b[0m\u001b[1;33m.\u001b[0m\u001b[0mCanny\u001b[0m\u001b[1;33m(\u001b[0m\u001b[0mgray\u001b[0m\u001b[1;33m,\u001b[0m \u001b[1;36m10\u001b[0m\u001b[1;33m,\u001b[0m\u001b[1;36m150\u001b[0m\u001b[1;33m)\u001b[0m\u001b[1;33m\u001b[0m\u001b[0m\n",
      "\u001b[1;31merror\u001b[0m: OpenCV(4.4.0) C:\\Users\\appveyor\\AppData\\Local\\Temp\\1\\pip-req-build-nxx381if\\opencv\\modules\\imgproc\\src\\resize.cpp:3929: error: (-215:Assertion failed) !ssize.empty() in function 'cv::resize'\n"
     ]
    }
   ],
   "source": [
    "def figColor(imagenHSV):\n",
    "\n",
    "    # azulfuerte\n",
    "    azulBajo = np.array([111, 75, 85])#, np.uint8)\n",
    "    azulFuerte = np.array([130,255, 255])#, np.uint8)\n",
    "\n",
    "    maskAzul = cv2.inRange(imagenHSV, azulBajo, azulFuerte)\n",
    "    cntsAzul = cv2.findContours(maskAzul, cv2.RETR_EXTERNAL, cv2.CHAIN_APPROX_SIMPLE)[0] #Reemplaza por 1, si tienes OpenCV3\n",
    "    if len(cntsAzul)>0: \n",
    "        color = 'Azul'\n",
    "        print(\"si2\")\n",
    "        \n",
    "    return color\n",
    "def figName(contorno,width,height):\n",
    "    epsilon = 0.01*cv2.arcLength(contorno,True)\n",
    "    approx = cv2.approxPolyDP(contorno,epsilon,True)\n",
    "    \n",
    "    if len(approx) == 4:\n",
    "        aspect_ratio = float(width)/height\n",
    "        if aspect_ratio == 1:\n",
    "            namefig = 'Cuadrado'\n",
    "            \n",
    "            print(\"si3\")\n",
    "        else:\n",
    "            namefig = 'Rectangulo'\n",
    "            print(\"si\")\n",
    "            \n",
    "newImg = cv2.imread(\"page_1.jpeg\")\n",
    "imagen = cv2.resize(newImg, (0,0), fx=0.50, fy=0.50) #0.75\n",
    "gray = cv2.cvtColor(imagen, cv2.COLOR_BGR2GRAY)\n",
    "canny = cv2.Canny(gray, 10,150)\n",
    "canny = cv2.dilate(canny,None,iterations=1)\n",
    "canny = cv2.erode(canny,None,iterations=1)\n",
    "#_,cnts,_ = cv2.findContours(canny, cv2.RETR_EXTERNAL, cv2.CHAIN_APPROX_SIMPLE) #OpenCV 3\n",
    "cnts,_ = cv2.findContours(canny, cv2.RETR_EXTERNAL, cv2.CHAIN_APPROX_SIMPLE) #OpenCV 4\n",
    "imageHSV = cv2.cvtColor(imagen, cv2.COLOR_BGR2HSV)\n",
    "\n",
    "for c in cnts:\n",
    "    x, y, w, h = cv2.boundingRect(c)\n",
    "    imAux = np.zeros(imagen.shape[:2], dtype=\"uint8\")\n",
    "    imAux = cv2.drawContours(imAux, [c], -1, 255, -1)\n",
    "    maskHSV = cv2.bitwise_and(imageHSV,imageHSV, mask=imAux)\n",
    "    name = figName(c,w,h)\n",
    "    color = figColor(maskHSV)\n",
    "    nameColor = name + \" \" + color\n",
    "    cv2.putText(imagen,nameColor,(x,y-5),1,0.8,(0,255,0),1)\n",
    "    cv2.imshow('imagen',imagen)\n",
    "    cv2.waitKey(0)\n",
    "\n",
    "#cv2.imshow('imagen',imagen)\n",
    "#cv2.waitKey(0)\n",
    "cv2.destroyAllWindows()"
   ]
  },
  {
   "cell_type": "code",
   "execution_count": null,
   "metadata": {
    "collapsed": true
   },
   "outputs": [],
   "source": [
    "import cv2\n",
    "\n",
    "image = cv2.imread('figurasColores2.png')\n",
    "gray = cv2.cvtColor(image, cv2.COLOR_BGR2GRAY)\n",
    "canny = cv2.Canny(gray, 10, 150)\n",
    "canny = cv2.dilate(canny, None, iterations=1)\n",
    "canny = cv2.erode(canny, None, iterations=1)\n",
    "#_, th = cv2.threshold(gray, 10, 255, cv2.THRESH_BINARY)\n",
    "#_,cnts,_ = cv2.findContours(canny, cv2.RETR_EXTERNAL, cv2.CHAIN_APPROX_SIMPLE)# OpenCV 3\n",
    "cnts,_ = cv2.findContours(canny, cv2.RETR_EXTERNAL, cv2.CHAIN_APPROX_SIMPLE)# OpenCV 4\n",
    "#cv2.drawContours(image, cnts, -1, (0,255,0), 2)\n",
    "\n",
    "for c in cnts:\n",
    "\tepsilon = 0.01*cv2.arcLength(c,True)\n",
    "\tapprox = cv2.approxPolyDP(c,epsilon,True)\n",
    "\t#print(len(approx))\n",
    "\tx,y,w,h = cv2.boundingRect(approx)\n",
    "\n",
    "\tif len(approx)==3:\n",
    "\t\tcv2.putText(image,'Triangulo', (x,y-5),1,1,(0,255,0),1)\n",
    "\n",
    "\tif len(approx)==4:\n",
    "\t\taspect_ratio = float(w)/h\n",
    "\t\tprint('aspect_ratio= ', aspect_ratio)\n",
    "\t\tif aspect_ratio == 1:\n",
    "\t\t\tcv2.putText(image,'Cuadrado', (x,y-5),1,1,(0,255,0),1)\n",
    "\t\telse:\n",
    "\t\t\tcv2.putText(image,'Rectangulo', (x,y-5),1,1,(0,255,0),1)\n",
    "\n",
    "\tif len(approx)==5:\n",
    "\t\tcv2.putText(image,'Pentagono', (x,y-5),1,1,(0,255,0),1)\n",
    "\n",
    "\tif len(approx)==6:\n",
    "\t\tcv2.putText(image,'Hexagono', (x,y-5),1,1,(0,255,0),1)\n",
    "\n",
    "\tif len(approx)>10:\n",
    "\t\tcv2.putText(image,'Circulo', (x,y-5),1,1,(0,255,0),1)\n",
    "\n",
    "\tcv2.drawContours(image, [approx], 0, (0,255,0),2)\n",
    "\tcv2.imshow('image',image)\n",
    "\tcv2.waitKey(0)"
   ]
  },
  {
   "cell_type": "code",
   "execution_count": 16,
   "metadata": {},
   "outputs": [
    {
     "name": "stdout",
     "output_type": "stream",
     "text": [
      "1891.0\n",
      "2771.0\n",
      "2945.0\n",
      "\tTotal de rectangulos = 0\n",
      "\tTotal de rectangulos azules = 8\n"
     ]
    }
   ],
   "source": [
    "import cv2 as cv\n",
    "import numpy as np\n",
    "\n",
    "rectangulo = 0\n",
    "area_rectangulo = 0 \n",
    "rectangulo_azul = 0\n",
    "i = 0\n",
    "\n",
    "#imagen = cv.imread('page_1.jpeg')\n",
    "newImg = cv.imread(\"me.jpeg\")\n",
    "imagen = cv.resize(newImg, (0,0), fx=0.50, fy=0.50) #0.75\n",
    "gray = cv.cvtColor(imagen, cv.COLOR_BGR2GRAY)\n",
    "canny = cv.Canny(gray, 120,150)\n",
    "canny = cv.dilate(canny, None, iterations=1)\n",
    "canny = cv.erode(canny, None, iterations=1)\n",
    "#_, th = cv.threshold(gray, 50, 255, cv.THRESH_BINARY)\n",
    "\n",
    "#####################################################\n",
    "\n",
    "#Busca el contorno de las figuras de la imgen binaria\n",
    "cnts,_ = cv.findContours(canny, cv.RETR_EXTERNAL, cv.CHAIN_APPROX_SIMPLE)\n",
    "contornos = cv.drawContours(imagen,cnts,-1,(255,255,0), 2)\n",
    "\n",
    "\n",
    "#####################################################\n",
    "\n",
    "imagenHSV = cv.cvtColor(imagen, cv.COLOR_BGR2HSV)\n",
    "\n",
    "# azulfuerte\n",
    "azulBajo = np.array([111, 75, 85])#, np.uint8)\n",
    "azulFuerte = np.array([130,255, 255])#, np.uint8)\n",
    "\n",
    "#azulBajo = np.array([100,65,75])\n",
    "#azulFuerte = np.array([130, 255, 255])\n",
    "\n",
    "####################################################\n",
    "\n",
    "maskAzul = cv.inRange(imagenHSV, azulBajo, azulFuerte)\n",
    "mediana = cv.medianBlur(maskAzul, 3)\n",
    "cv.imwrite(\"BLUE_MASK.jpeg\", mediana)\n",
    "\n",
    "img_blue = cv.imread('BLUE_MASK.jpeg')\n",
    "gray2 = cv.cvtColor(img_blue, cv.COLOR_BGR2GRAY)\n",
    "_, th = cv.threshold(gray2, 50, 255, cv.THRESH_BINARY)\n",
    "canny2 = cv.Canny(th, 100,150)\n",
    "cntsAzul,_ = cv.findContours(canny2, cv.RETR_EXTERNAL, cv.CHAIN_APPROX_SIMPLE) #Reemplaza por 1, si tienes OpenCV3\n",
    "\n",
    "for c in cntsAzul:\n",
    "    x, y, w, h = cv.boundingRect(c)\n",
    "    epsilon = 0.03*cv.arcLength(c, True)\n",
    "    approx = cv.approxPolyDP(c, epsilon, True)\n",
    "    #print(len(approx2))\n",
    "    area = cv.contourArea(c)\n",
    "    if area > 1000:\n",
    "        print(area)\n",
    "        cv.putText(imagen,str(area),(x,y-5),1,0.8,(0,255,0),1)\n",
    "    if len(approx) == 4:\n",
    "        rectangulo_azul = rectangulo_azul + 1\n",
    "\n",
    "\"\"\"\n",
    "for contorno in cnts:\n",
    "\tepsilon2 = 0.01*cv.arcLength(contorno,True)\n",
    "\tapprox_2 = cv.approxPolyDP(contorno,epsilon2,True)\n",
    "\n",
    "\tif len(approx_2) == 4:\n",
    "\t\trectangulo = rectangulo + 1\n",
    "        area_rectangulo = area_rectangulo + cv.contourArea(cnts[i]) #[i]\n",
    "        i = i+1\n",
    "\n",
    "\t\taspect_ratio = float(width)/height\n",
    "\t\tif aspect_ratio == 1:\n",
    "\t\t\tnamefig = 'Cuadrado'\n",
    "\t\telse:\n",
    "\t\t\tnamefig = 'Rectangulo'\n",
    "\n",
    "for c in cnts:\n",
    "\tx, y, w, h = cv.boundingRect(c)\n",
    "\timAux = np.zeros(imagen.shape[:2], dtype=\"uint8\")\n",
    "\timAux = cv.drawContours(imAux, [c], -1, 255, -1)\n",
    "\tmaskHSV = cv.bitwise_and(imagenHSV,imagenHSV, mask=imAux)\n",
    "\t#name = figName(c,w,h)\n",
    "\t#color = figColor(maskHSV)\n",
    "\t#nameColor = name + ' ' + color\n",
    "    #cv2.putText(imagen,nameColor,(x,y-5),1,0.8,(0,255,0),1)\n",
    "\"\"\"\n",
    "cv.imshow('imagen', canny)\n",
    "cv.imshow('maskAzul', maskAzul)\n",
    "cv.imshow('canny2', canny2)\n",
    "cv.imshow ('contornos', contornos)\n",
    "cv.imshow ('Th', th)\n",
    "\n",
    "print(\"\\tTotal de rectangulos = %i\"%rectangulo)\n",
    "print(\"\\tTotal de rectangulos azules = %i\"%rectangulo_azul)\n",
    "\n",
    "k = cv.waitKey(0)\n",
    "cv.destroyAllWindows()"
   ]
  }
 ],
 "metadata": {
  "kernelspec": {
   "display_name": "Python 3",
   "language": "python",
   "name": "python3"
  },
  "language_info": {
   "codemirror_mode": {
    "name": "ipython",
    "version": 3
   },
   "file_extension": ".py",
   "mimetype": "text/x-python",
   "name": "python",
   "nbconvert_exporter": "python",
   "pygments_lexer": "ipython3",
   "version": "3.6.1"
  }
 },
 "nbformat": 4,
 "nbformat_minor": 2
}
