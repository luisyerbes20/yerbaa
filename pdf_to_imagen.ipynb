{
 "cells": [
  {
   "cell_type": "code",
   "execution_count": 2,
   "metadata": {
    "collapsed": true
   },
   "outputs": [],
   "source": [
    "from PIL import Image\n",
    "import pytesseract\n",
    "import sys\n",
    "from pdf2image import convert_from_path\n",
    "import os"
   ]
  },
  {
   "cell_type": "code",
   "execution_count": 59,
   "metadata": {
    "collapsed": true
   },
   "outputs": [],
   "source": [
    "pages = convert_from_path('doc7.pdf',500)"
   ]
  },
  {
   "cell_type": "code",
   "execution_count": 60,
   "metadata": {
    "collapsed": true
   },
   "outputs": [],
   "source": [
    "image_counter = 1\n",
    "  \n",
    "# Iterate through all the pages stored above \n",
    "for page in pages: \n",
    "  \n",
    "    # Declaring filename for each page of PDF as JPG \n",
    "    # For each page, filename will be: \n",
    "    # PDF page 1 -> page_1.jpg \n",
    "    # PDF page 2 -> page_2.jpg \n",
    "    # PDF page 3 -> page_3.jpg \n",
    "    # .... \n",
    "    # PDF page n -> page_n.jpg \n",
    "    filename = \"page_\"+str(image_counter)+\".jpeg\"\n",
    "      \n",
    "    # Save the image of the page in system \n",
    "    page.save(filename, 'JPEG') \n",
    "  \n",
    "    # Increment the counter to update filename \n",
    "    image_counter = image_counter + 1\n",
    "  "
   ]
  },
  {
   "cell_type": "code",
   "execution_count": 5,
   "metadata": {
    "collapsed": true
   },
   "outputs": [],
   "source": [
    "import cv2\n",
    "import numpy as np"
   ]
  },
  {
   "cell_type": "code",
   "execution_count": 71,
   "metadata": {
    "collapsed": true
   },
   "outputs": [],
   "source": [
    "#Grammar\n",
    "def ARTICLES_Y_PREPOSITIONS(area):\n",
    "    porcentage= (area*100)/3583.0\n",
    "    return porcentage\n",
    "def CONJUNCTIONS(area):\n",
    "    porcentage= (area*100)/3594.0\n",
    "    return porcentage\n",
    "def EXPRESSING_QUANTITY(area):\n",
    "    porcentage= (area*100)/3443.5\n",
    "    return porcentage\n",
    "def PARTS_OF_SPEECH(area):\n",
    "    porcentage= (area*100)/3680.0\n",
    "    return porcentage\n",
    "def PRONOUNS(area):\n",
    "    porcentage= (area*100)/3569.0\n",
    "    return porcentage\n",
    "def SENTENCE_STRUCTURE(area):\n",
    "    porcentage= (area*100)/3552.5\n",
    "    return porcentage\n",
    "def VERB_FORMS(area):\n",
    "    porcentage= (area*100)/3407.5\n",
    "    return porcentage\n",
    "#listening\n",
    "def CATCHING_DETAILS(area):\n",
    "    porcentage= (area*100)/3582.5\n",
    "    porcentage= porcentage + 2\n",
    "    return porcentage\n",
    "def CONNECTING_CONTENT(area):\n",
    "    porcentage= (area*100)/3465.5\n",
    "    porcentage= porcentage + 2\n",
    "    return porcentage\n",
    "def DETERMINING_THE_PURPOSE(area):\n",
    "    porcentage= (area*100)/3685\n",
    "    porcentage= porcentage + 2\n",
    "    return porcentage\n",
    "def MAIN_IDEA(area):\n",
    "    porcentage= (area*100)/3563.5\n",
    "    porcentage= porcentage + 2\n",
    "    return porcentage\n",
    "def MAKING_IMPLICATIONS(area):\n",
    "    porcentage= (area*100)/3554.5\n",
    "    porcentage= porcentage + 2\n",
    "    return porcentage\n",
    "#reading\n",
    "def DETAIL(area):\n",
    "    porcentage= (area*100)/3587.5\n",
    "    porcentage= porcentage + 2\n",
    "    return porcentage\n",
    "def MAIN_IDEA(area):\n",
    "    porcentage= (area*100)/3462.0\n",
    "    porcentage= porcentage + 2\n",
    "    return porcentage\n",
    "def SEQUENCING(area):\n",
    "    porcentage= (area*100)/3683.0\n",
    "    porcentage= porcentage + 2\n",
    "    return porcentage\n",
    "def SYNTHESIS(area):\n",
    "    porcentage= (area*100)/3578.5\n",
    "    porcentage= porcentage + 2\n",
    "    return porcentage\n",
    "def VOCABULARY(area):\n",
    "    porcentage= (area*100)/3551.5\n",
    "    porcentage= porcentage + 2\n",
    "    return porcentage"
   ]
  },
  {
   "cell_type": "code",
   "execution_count": 53,
   "metadata": {
    "collapsed": true
   },
   "outputs": [],
   "source": [
    "list_x_areas=[]"
   ]
  },
  {
   "cell_type": "code",
   "execution_count": 61,
   "metadata": {
    "scrolled": true
   },
   "outputs": [
    {
     "name": "stdout",
     "output_type": "stream",
     "text": [
      "1710.5\n",
      "2428.0\n",
      "2384.0\n",
      "2655.0\n",
      "3563.5\n",
      "799.5\n",
      "2352.0\n",
      "2362.0\n",
      "2582.5\n",
      "2677.0\n",
      "3680.0\n",
      "3594.0\n",
      "\tTotal de rectangulos = 0\n",
      "\tTotal de rectangulos azules = 14\n"
     ]
    }
   ],
   "source": [
    "import cv2 as cv\n",
    "import numpy as np\n",
    "\n",
    "list_x_areas=[]\n",
    "rectangulo = 0\n",
    "area_rectangulo = 0 \n",
    "rectangulo_azul = 0\n",
    "i = 0\n",
    "\n",
    "#imagen = cv.imread('page_1.jpeg')\n",
    "newImg = cv.imread(\"page_2.jpeg\")\n",
    "imagen = cv.resize(newImg, (0,0), fx=0.10, fy=0.10) #0.75\n",
    "gray = cv.cvtColor(imagen, cv.COLOR_BGR2GRAY)\n",
    "canny = cv.Canny(gray, 120,150)\n",
    "canny = cv.dilate(canny, None, iterations=1)\n",
    "canny = cv.erode(canny, None, iterations=1)\n",
    "#_, th = cv.threshold(gray, 50, 255, cv.THRESH_BINARY)\n",
    "\n",
    "#####################################################\n",
    "\n",
    "#Busca el contorno de las figuras de la imgen binaria\n",
    "cnts,_ = cv.findContours(canny, cv.RETR_EXTERNAL, cv.CHAIN_APPROX_SIMPLE)\n",
    "contornos = cv.drawContours(imagen,cnts,-1,(255,255,0), 2)\n",
    "\n",
    "\n",
    "#####################################################\n",
    "\n",
    "imagenHSV = cv.cvtColor(imagen, cv.COLOR_BGR2HSV)\n",
    "\n",
    "# azulfuerte\n",
    "azulBajo = np.array([111, 75, 85])#, np.uint8)\n",
    "azulFuerte = np.array([130,255, 255])#, np.uint8)\n",
    "\n",
    "#azulBajo = np.array([100,65,75])\n",
    "#azulFuerte = np.array([130, 255, 255])\n",
    "\n",
    "####################################################\n",
    "\n",
    "maskAzul = cv.inRange(imagenHSV, azulBajo, azulFuerte)\n",
    "mediana = cv.medianBlur(maskAzul, 3)\n",
    "cv.imwrite(\"BLUE_MASK.jpeg\", mediana)\n",
    "\n",
    "img_blue = cv.imread('BLUE_MASK.jpeg')\n",
    "gray2 = cv.cvtColor(img_blue, cv.COLOR_BGR2GRAY)\n",
    "_, th = cv.threshold(gray2, 50, 255, cv.THRESH_BINARY)\n",
    "canny2 = cv.Canny(th, 100,150)\n",
    "cntsAzul,_ = cv.findContours(canny2, cv.RETR_EXTERNAL, cv.CHAIN_APPROX_SIMPLE) #Reemplaza por 1, si tienes OpenCV3\n",
    "\n",
    "for c in cntsAzul:\n",
    "    x, y, w, h = cv.boundingRect(c)\n",
    "    epsilon = 0.03*cv.arcLength(c, True)\n",
    "    approx = cv.approxPolyDP(c, epsilon, True)\n",
    "    #print(len(approx2))\n",
    "    area = cv.contourArea(c)\n",
    "    if area > 10:\n",
    "        print(area)\n",
    "        list_x_areas.append([x,area])\n",
    "        cv.putText(imagen,str(x),(x,y-5),1,0.8,(0,255,0),1)\n",
    "    if len(approx) == 4:\n",
    "        rectangulo_azul = rectangulo_azul + 1\n",
    "\n",
    "\"\"\"\n",
    "for contorno in cnts:\n",
    "\tepsilon2 = 0.01*cv.arcLength(contorno,True)\n",
    "\tapprox_2 = cv.approxPolyDP(contorno,epsilon2,True)\n",
    "\n",
    "\tif len(approx_2) == 4:\n",
    "\t\trectangulo = rectangulo + 1\n",
    "        area_rectangulo = area_rectangulo + cv.contourArea(cnts[i]) #[i]\n",
    "        i = i+1\n",
    "\n",
    "\t\taspect_ratio = float(width)/height\n",
    "\t\tif aspect_ratio == 1:\n",
    "\t\t\tnamefig = 'Cuadrado'\n",
    "\t\telse:\n",
    "\t\t\tnamefig = 'Rectangulo'\n",
    "\n",
    "for c in cnts:\n",
    "\tx, y, w, h = cv.boundingRect(c)\n",
    "\timAux = np.zeros(imagen.shape[:2], dtype=\"uint8\")\n",
    "\timAux = cv.drawContours(imAux, [c], -1, 255, -1)\n",
    "\tmaskHSV = cv.bitwise_and(imagenHSV,imagenHSV, mask=imAux)\n",
    "\t#name = figName(c,w,h)\n",
    "\t#color = figColor(maskHSV)\n",
    "\t#nameColor = name + ' ' + color\n",
    "    #cv2.putText(imagen,nameColor,(x,y-5),1,0.8,(0,255,0),1)\n",
    "\"\"\"\n",
    "cv.imshow('imagen', canny)\n",
    "cv.imshow('maskAzul', maskAzul)\n",
    "cv.imshow('canny2', canny2)\n",
    "cv.imshow ('contornos', contornos)\n",
    "cv.imshow ('Th', th)\n",
    "\n",
    "print(\"\\tTotal de rectangulos = %i\"%rectangulo)\n",
    "print(\"\\tTotal de rectangulos azules = %i\"%rectangulo_azul)\n",
    "\n",
    "k = cv.waitKey(0)\n",
    "cv.destroyAllWindows()"
   ]
  },
  {
   "cell_type": "code",
   "execution_count": 62,
   "metadata": {},
   "outputs": [
    {
     "data": {
      "text/plain": [
       "[[136, 1710.5],\n",
       " [179, 2428.0],\n",
       " [93, 2384.0],\n",
       " [265, 2655.0],\n",
       " [222, 3563.5],\n",
       " [309, 799.5],\n",
       " [265, 2352.0],\n",
       " [222, 2362.0],\n",
       " [136, 2582.5],\n",
       " [50, 2677.0],\n",
       " [179, 3680.0],\n",
       " [93, 3594.0]]"
      ]
     },
     "execution_count": 62,
     "metadata": {},
     "output_type": "execute_result"
    }
   ],
   "source": [
    "list_x_areas\n"
   ]
  },
  {
   "cell_type": "code",
   "execution_count": 77,
   "metadata": {},
   "outputs": [],
   "source": [
    "list_habilides_score=[]\n",
    "for i in range (len(list_x_areas)):\n",
    "    if i  < 5:\n",
    "        if list_x_areas[i][0]==93:\n",
    "            por=ARTICLES_Y_PREPOSITIONS(list_x_areas[i][1])\n",
    "            list_habilides_score.append(['CATCHING DETAILS',int(por)])\n",
    "        elif list_x_areas[i][0]==136:\n",
    "            por=ARTICLES_Y_PREPOSITIONS(list_x_areas[i][1])\n",
    "            list_habilides_score.append(['CONNECTING CONTENT',int(por)])\n",
    "        elif list_x_areas[i][0]==179:\n",
    "            por=ARTICLES_Y_PREPOSITIONS(list_x_areas[i][1])\n",
    "            list_habilides_score.append(['DETERMINING THE PURPOSE',int(por)])\n",
    "        elif list_x_areas[i][0]==222:\n",
    "            por=ARTICLES_Y_PREPOSITIONS(list_x_areas[i][1])\n",
    "            list_habilides_score.append(['MAIN IDEA',int(por)])\n",
    "        elif list_x_areas[i][0]==265:\n",
    "            por=ARTICLES_Y_PREPOSITIONS(list_x_areas[i][1])\n",
    "            list_habilides_score.append(['MAKING IMPLICATIONS',int(por)])\n",
    "    elif i  > 4:\n",
    "        if list_x_areas[i][0]==50:\n",
    "            por=ARTICLES_Y_PREPOSITIONS(list_x_areas[i][1])\n",
    "            list_habilides_score.append(['ARTICLES Y PREPOSITIONS',int(por)])\n",
    "        elif list_x_areas[i][0]==93:\n",
    "            por=ARTICLES_Y_PREPOSITIONS(list_x_areas[i][1])\n",
    "            list_habilides_score.append(['CONJUNCTIONS',int(por)])\n",
    "        elif list_x_areas[i][0]==136:\n",
    "            por=ARTICLES_Y_PREPOSITIONS(list_x_areas[i][1])\n",
    "            list_habilides_score.append(['EXPRESSING QUANTITY',int(por)])\n",
    "        elif list_x_areas[i][0]==179:\n",
    "            por=ARTICLES_Y_PREPOSITIONS(list_x_areas[i][1])\n",
    "            list_habilides_score.append(['PARTS OF SPEECH',int(por)])\n",
    "        elif list_x_areas[i][0]==222:\n",
    "            por=ARTICLES_Y_PREPOSITIONS(list_x_areas[i][1])\n",
    "            list_habilides_score.append(['PRONOUNS',int(por)])\n",
    "        elif list_x_areas[i][0]==265:\n",
    "            por=ARTICLES_Y_PREPOSITIONS(list_x_areas[i][1])\n",
    "            list_habilides_score.append(['SENTENCE STRUCTURE',int(por)])\n",
    "        elif list_x_areas[i][0]==309:\n",
    "            por=ARTICLES_Y_PREPOSITIONS(list_x_areas[i][1])\n",
    "            list_habilides_score.append(['VERBFORMS',int(por)])"
   ]
  },
  {
   "cell_type": "code",
   "execution_count": 78,
   "metadata": {},
   "outputs": [
    {
     "data": {
      "text/plain": [
       "[['CONNECTING CONTENT', 47],\n",
       " ['DETERMINING THE PURPOSE', 67],\n",
       " ['CATCHING DETAILS', 66],\n",
       " ['MAKING IMPLICATIONS', 74],\n",
       " ['MAIN IDEA', 99],\n",
       " ['VERBFORMS', 22],\n",
       " ['SENTENCE STRUCTURE', 65],\n",
       " ['PRONOUNS', 65],\n",
       " ['EXPRESSING QUANTITY', 72],\n",
       " ['ARTICLES Y PREPOSITIONS', 74],\n",
       " ['PARTS OF SPEECH', 102],\n",
       " ['CONJUNCTIONS', 100]]"
      ]
     },
     "execution_count": 78,
     "metadata": {},
     "output_type": "execute_result"
    }
   ],
   "source": [
    "list_habilides_score"
   ]
  },
  {
   "cell_type": "code",
   "execution_count": 68,
   "metadata": {
    "collapsed": true
   },
   "outputs": [],
   "source": []
  },
  {
   "cell_type": "code",
   "execution_count": 31,
   "metadata": {},
   "outputs": [
    {
     "name": "stdout",
     "output_type": "stream",
     "text": [
      "SQLite version: 3.14.2\n"
     ]
    }
   ],
   "source": [
    "\n",
    "import sqlite3 as lite\n",
    "import sys\n",
    "\n",
    "con = lite.connect('test.db')\n",
    "\n",
    "with con:\n",
    "    \n",
    "    cur = con.cursor()    \n",
    "    cur.execute('SELECT SQLITE_VERSION()')\n",
    "    \n",
    "    data = cur.fetchone()\n",
    "    \n",
    "    print (\"SQLite version: %s\" % data)"
   ]
  }
 ],
 "metadata": {
  "kernelspec": {
   "display_name": "Python 3",
   "language": "python",
   "name": "python3"
  },
  "language_info": {
   "codemirror_mode": {
    "name": "ipython",
    "version": 3
   },
   "file_extension": ".py",
   "mimetype": "text/x-python",
   "name": "python",
   "nbconvert_exporter": "python",
   "pygments_lexer": "ipython3",
   "version": "3.6.1"
  }
 },
 "nbformat": 4,
 "nbformat_minor": 2
}
