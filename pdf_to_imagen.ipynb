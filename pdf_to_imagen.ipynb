{
 "cells": [
  {
   "cell_type": "code",
   "execution_count": 43,
   "metadata": {
    "collapsed": true
   },
   "outputs": [],
   "source": [
    "from PIL import Image\n",
    "import pytesseract\n",
    "import sys\n",
    "from pdf2image import convert_from_path\n",
    "import os\n",
    "from os import remove\n",
    "import cv2 as cv\n",
    "import numpy as np"
   ]
  },
  {
   "cell_type": "code",
   "execution_count": 159,
   "metadata": {
    "collapsed": true
   },
   "outputs": [],
   "source": [
    "#Grammar\n",
    "ARTICLES_Y_PREPOSITIONS1 = []\n",
    "CONJUNCTIONS1 = []\n",
    "EXPRESSING_QUANTITY1 = []\n",
    "PARTS_OF_SPEECH1 = []\n",
    "PRONOUNS1 = []\n",
    "SENTENCE_STRUCTURE1 = []\n",
    "VERB_FORMS1 = []\n",
    "#listening\n",
    "CATCHING_DETAILS1 = []\n",
    "CONNECTING_CONTENT1 = []\n",
    "DETERMINING_THE_PURPOSE1 = []\n",
    "MAIN_IDEA1 = []\n",
    "MAKING_IMPLICATIONS1 = []\n",
    "#reading\n",
    "DETAIL1 = []\n",
    "MAIN_IDEA12 = []\n",
    "SEQUENCING1 = []\n",
    "SYNTHESIS1 = []\n",
    "VOCABULARY1 = []\n",
    "#\n",
    "columns=[\"ARTICLES_Y_PREPOSITIONS\",\"CONJUNCTIONS\",\"EXPRESSING_QUANTITY\",\"PARTS_OF_SPEECH\",\"PRONOUNS\",\"SENTENCE_STRUCTURE\",\"VERB_FORMS\", \"CATCHING_DETAILS\",\"CONNECTING_CONTENT\",\"DETERMINING_THE_PURPOSE\", \"MAIN_IDEA\", \"MAKING_IMPLICATIONS\", \"DETAIL\",\"MAIN_IDEA\",\"SEQUENCING\",\"SYNTHESIS\", \"VOCABULARY\"]"
   ]
  },
  {
   "cell_type": "code",
   "execution_count": 162,
   "metadata": {},
   "outputs": [
    {
     "data": {
      "text/plain": [
       "[100, 100]"
      ]
     },
     "execution_count": 162,
     "metadata": {},
     "output_type": "execute_result"
    }
   ],
   "source": [
    "DETERMINING_THE_PURPOSE1"
   ]
  },
  {
   "cell_type": "code",
   "execution_count": 112,
   "metadata": {
    "collapsed": true
   },
   "outputs": [],
   "source": [
    "remove(\"page_1.jpeg\")\n",
    "remove(\"page_2.jpeg\")\n",
    "remove(\"page_3.jpeg\")"
   ]
  },
  {
   "cell_type": "code",
   "execution_count": 113,
   "metadata": {
    "collapsed": true
   },
   "outputs": [],
   "source": [
    "pages = convert_from_path('doc1.pdf',500)"
   ]
  },
  {
   "cell_type": "code",
   "execution_count": 117,
   "metadata": {
    "collapsed": true
   },
   "outputs": [],
   "source": [
    "image_counter = 1\n",
    "  \n",
    "# Iterate through all the pages stored above \n",
    "for page in pages: \n",
    "  \n",
    "    # Declaring filename for each page of PDF as JPG \n",
    "    # For each page, filename will be: \n",
    "    # PDF page 1 -> page_1.jpg \n",
    "    # PDF page 2 -> page_2.jpg \n",
    "    # PDF page 3 -> page_3.jpg \n",
    "    # .... \n",
    "    # PDF page n -> page_n.jpg \n",
    "    filename = \"page_\"+str(image_counter)+\".jpeg\"\n",
    "      \n",
    "    # Save the image of the page in system \n",
    "    page.save(filename, 'JPEG') \n",
    "  \n",
    "    # Increment the counter to update filename \n",
    "    image_counter = image_counter + 1\n",
    "  "
   ]
  },
  {
   "cell_type": "code",
   "execution_count": 5,
   "metadata": {},
   "outputs": [
    {
     "name": "stdout",
     "output_type": "stream",
     "text": [
      "1\n",
      "2\n"
     ]
    }
   ],
   "source": [
    "for i in range(2):\n",
    "    print(i+1)"
   ]
  },
  {
   "cell_type": "code",
   "execution_count": 160,
   "metadata": {},
   "outputs": [],
   "source": [
    "def pdf():\n",
    "    for i in range(2):\n",
    "        num=i+1\n",
    "        pages = convert_from_path(\"doc\"+str(num)+\".pdf\",500)\n",
    "        image_counter = 1\n",
    "  \n",
    "        # Iterate through all the pages stored above \n",
    "        for page in pages: \n",
    "\n",
    "            # Declaring filename for each page of PDF as JPG \n",
    "            # For each page, filename will be: \n",
    "            # PDF page 1 -> page_1.jpg \n",
    "            # PDF page 2 -> page_2.jpg \n",
    "            # PDF page 3 -> page_3.jpg \n",
    "            # .... \n",
    "            # PDF page n -> page_n.jpg \n",
    "            filename = \"page_\"+str(image_counter)+\".jpeg\"\n",
    "\n",
    "            # Save the image of the page in system \n",
    "            page.save(filename, 'JPEG') \n",
    "\n",
    "            # Increment the counter to update filename \n",
    "            image_counter = image_counter + 1\n",
    "        lista2=x_area(\"page_2.jpeg\")\n",
    "        lista3=x_area(\"page_3.jpeg\")\n",
    "        lista4=calculate_porcentage1(lista2)\n",
    "        lista5=calculate_porcentage2(lista3)\n",
    "        \n",
    "        \n",
    "        \n",
    "        remove(\"page_1.jpeg\")\n",
    "        remove(\"page_2.jpeg\")\n",
    "        remove(\"page_3.jpeg\")\n",
    "        print(\"doc\"+str(num)+\".pdf\")\n",
    "        print(\"*********************************************\")\n",
    "\n",
    "\n"
   ]
  },
  {
   "cell_type": "code",
   "execution_count": 161,
   "metadata": {},
   "outputs": [
    {
     "name": "stdout",
     "output_type": "stream",
     "text": [
      "doc1.pdf\n",
      "*********************************************\n",
      "doc2.pdf\n",
      "*********************************************\n"
     ]
    }
   ],
   "source": [
    "pdf()"
   ]
  },
  {
   "cell_type": "code",
   "execution_count": 5,
   "metadata": {
    "collapsed": true
   },
   "outputs": [],
   "source": [
    "import cv2\n",
    "import numpy as np"
   ]
  },
  {
   "cell_type": "code",
   "execution_count": 95,
   "metadata": {
    "collapsed": true
   },
   "outputs": [],
   "source": [
    "#Grammar\n",
    "def ARTICLES_Y_PREPOSITIONS(area):\n",
    "    porcentage= (area*100)/3583.0\n",
    "    return porcentage\n",
    "def CONJUNCTIONS(area):\n",
    "    porcentage= (area*100)/3594.0\n",
    "    return porcentage\n",
    "def EXPRESSING_QUANTITY(area):\n",
    "    porcentage= (area*100)/3443.5\n",
    "    return porcentage\n",
    "def PARTS_OF_SPEECH(area):\n",
    "    porcentage= (area*100)/3680.0\n",
    "    return porcentage\n",
    "def PRONOUNS(area):\n",
    "    porcentage= (area*100)/3569.0\n",
    "    return porcentage\n",
    "def SENTENCE_STRUCTURE(area):\n",
    "    porcentage= (area*100)/3552.5\n",
    "    return porcentage\n",
    "def VERB_FORMS(area):\n",
    "    porcentage= (area*100)/3407.5\n",
    "    return porcentage\n",
    "#listening\n",
    "def CATCHING_DETAILS(area):\n",
    "    porcentage= (area*100)/3582.5\n",
    "    porcentage= porcentage\n",
    "    return porcentage\n",
    "def CONNECTING_CONTENT(area):\n",
    "    porcentage= (area*100)/3465.5\n",
    "    porcentage= porcentage\n",
    "    return porcentage\n",
    "def DETERMINING_THE_PURPOSE(area):\n",
    "    porcentage= (area*100)/3685\n",
    "    porcentage= porcentage\n",
    "    return porcentage\n",
    "def MAIN_IDEA(area):\n",
    "    porcentage= (area*100)/3563.5\n",
    "    porcentage= porcentage\n",
    "    return porcentage\n",
    "def MAKING_IMPLICATIONS(area):\n",
    "    porcentage= (area*100)/3554.5\n",
    "    porcentage= porcentage\n",
    "    return porcentage\n",
    "#reading\n",
    "def DETAIL(area):\n",
    "    porcentage= (area*100)/3587.5\n",
    "    porcentage= porcentage\n",
    "    return porcentage\n",
    "def MAIN_IDEA2(area):\n",
    "    porcentage= (area*100)/3462.0\n",
    "    porcentage= porcentage\n",
    "    return porcentage\n",
    "def SEQUENCING(area):\n",
    "    porcentage= (area*100)/3683.0\n",
    "    porcentage= porcentage\n",
    "    return porcentage\n",
    "def SYNTHESIS(area):\n",
    "    porcentage= (area*100)/3578.5\n",
    "    porcentage= porcentage\n",
    "    return porcentage\n",
    "def VOCABULARY(area):\n",
    "    porcentage= (area*100)/3551.5\n",
    "    porcentage= porcentage\n",
    "    return porcentage"
   ]
  },
  {
   "cell_type": "code",
   "execution_count": 53,
   "metadata": {
    "collapsed": true
   },
   "outputs": [],
   "source": [
    "list_x_areas=[]"
   ]
  },
  {
   "cell_type": "code",
   "execution_count": 118,
   "metadata": {
    "scrolled": true
   },
   "outputs": [
    {
     "name": "stdout",
     "output_type": "stream",
     "text": [
      "2354.0\n",
      "3563.5\n",
      "3685.0\n",
      "3465.5\n",
      "3582.5\n",
      "2853.0\n",
      "3407.5\n",
      "3552.5\n",
      "3569.0\n",
      "3680.0\n",
      "3443.5\n",
      "3594.0\n",
      "\tTotal de rectangulos = 0\n",
      "\tTotal de rectangulos azules = 14\n"
     ]
    }
   ],
   "source": [
    "import cv2 as cv\n",
    "import numpy as np\n",
    "\n",
    "list_x_areas=[]\n",
    "rectangulo = 0\n",
    "area_rectangulo = 0 \n",
    "rectangulo_azul = 0\n",
    "i = 0\n",
    "\n",
    "#imagen = cv.imread('page_1.jpeg')\n",
    "newImg = cv.imread(\"page_2.jpeg\")\n",
    "imagen = cv.resize(newImg, (0,0), fx=0.10, fy=0.10) #0.75\n",
    "gray = cv.cvtColor(imagen, cv.COLOR_BGR2GRAY)\n",
    "canny = cv.Canny(gray, 120,150)\n",
    "canny = cv.dilate(canny, None, iterations=1)\n",
    "canny = cv.erode(canny, None, iterations=1)\n",
    "#_, th = cv.threshold(gray, 50, 255, cv.THRESH_BINARY)\n",
    "\n",
    "#####################################################\n",
    "\n",
    "#Busca el contorno de las figuras de la imgen binaria\n",
    "cnts,_ = cv.findContours(canny, cv.RETR_EXTERNAL, cv.CHAIN_APPROX_SIMPLE)\n",
    "contornos = cv.drawContours(imagen,cnts,-1,(255,255,0), 2)\n",
    "\n",
    "\n",
    "#####################################################\n",
    "\n",
    "imagenHSV = cv.cvtColor(imagen, cv.COLOR_BGR2HSV)\n",
    "\n",
    "# azulfuerte\n",
    "azulBajo = np.array([111, 75, 85])#, np.uint8)\n",
    "azulFuerte = np.array([130,255, 255])#, np.uint8)\n",
    "\n",
    "#azulBajo = np.array([100,65,75])\n",
    "#azulFuerte = np.array([130, 255, 255])\n",
    "\n",
    "####################################################\n",
    "\n",
    "maskAzul = cv.inRange(imagenHSV, azulBajo, azulFuerte)\n",
    "mediana = cv.medianBlur(maskAzul, 3)\n",
    "cv.imwrite(\"BLUE_MASK.jpeg\", mediana)\n",
    "\n",
    "img_blue = cv.imread('BLUE_MASK.jpeg')\n",
    "gray2 = cv.cvtColor(img_blue, cv.COLOR_BGR2GRAY)\n",
    "_, th = cv.threshold(gray2, 50, 255, cv.THRESH_BINARY)\n",
    "canny2 = cv.Canny(th, 100,150)\n",
    "cntsAzul,_ = cv.findContours(canny2, cv.RETR_EXTERNAL, cv.CHAIN_APPROX_SIMPLE) #Reemplaza por 1, si tienes OpenCV3\n",
    "\n",
    "for c in cntsAzul:\n",
    "    x, y, w, h = cv.boundingRect(c)\n",
    "    epsilon = 0.03*cv.arcLength(c, True)\n",
    "    approx = cv.approxPolyDP(c, epsilon, True)\n",
    "    #print(len(approx2))\n",
    "    area = cv.contourArea(c)\n",
    "    if area > 10:\n",
    "        print(area)\n",
    "        list_x_areas.append([x,area])\n",
    "        cv.putText(imagen,str(x),(x,y-5),1,0.8,(0,255,0),1)\n",
    "    if len(approx) == 4:\n",
    "        rectangulo_azul = rectangulo_azul + 1\n",
    "\n",
    "\"\"\"\n",
    "for contorno in cnts:\n",
    "\tepsilon2 = 0.01*cv.arcLength(contorno,True)\n",
    "\tapprox_2 = cv.approxPolyDP(contorno,epsilon2,True)\n",
    "\n",
    "\tif len(approx_2) == 4:\n",
    "\t\trectangulo = rectangulo + 1\n",
    "        area_rectangulo = area_rectangulo + cv.contourArea(cnts[i]) #[i]\n",
    "        i = i+1\n",
    "\n",
    "\t\taspect_ratio = float(width)/height\n",
    "\t\tif aspect_ratio == 1:\n",
    "\t\t\tnamefig = 'Cuadrado'\n",
    "\t\telse:\n",
    "\t\t\tnamefig = 'Rectangulo'\n",
    "\n",
    "for c in cnts:\n",
    "\tx, y, w, h = cv.boundingRect(c)\n",
    "\timAux = np.zeros(imagen.shape[:2], dtype=\"uint8\")\n",
    "\timAux = cv.drawContours(imAux, [c], -1, 255, -1)\n",
    "\tmaskHSV = cv.bitwise_and(imagenHSV,ima\n",
    "\t#color = figColor(maskHSV)\n",
    "\t#nameColor = name + ' ' + color\n",
    "    #cv2.putText(imagen,nameColor,(x,y-5),1,0.8,(0,255,0),1)genHSV, mask=imAux)\n",
    "\t#name = figName(c,w,h)\n",
    "\"\"\"\n",
    "cv.imshow('imagen', canny)\n",
    "cv.imshow('maskAzul', maskAzul)\n",
    "cv.imshow('canny2', canny2)\n",
    "cv.imshow ('contornos', contornos)\n",
    "cv.imshow ('Th', th)\n",
    "\n",
    "print(\"\\tTotal de rectangulos = %i\"%rectangulo)\n",
    "print(\"\\tTotal de rectangulos azules = %i\"%rectangulo_azul)\n",
    "\n",
    "k = cv.waitKey(0)\n",
    "cv.destroyAllWindows()"
   ]
  },
  {
   "cell_type": "code",
   "execution_count": 24,
   "metadata": {
    "collapsed": true
   },
   "outputs": [],
   "source": [
    "def x_area(foto):\n",
    "      #******************************************\n",
    "    list_x_areas=[]\n",
    "    rectangulo = 0\n",
    "    area_rectangulo = 0 \n",
    "    rectangulo_azul = 0\n",
    "    i = 0\n",
    "\n",
    "    #imagen = cv.imread('page_1.jpeg')\n",
    "    newImg = cv.imread(foto)\n",
    "    imagen = cv.resize(newImg, (0,0), fx=0.10, fy=0.10) #0.75\n",
    "    gray = cv.cvtColor(imagen, cv.COLOR_BGR2GRAY)\n",
    "    canny = cv.Canny(gray, 120,150)\n",
    "    canny = cv.dilate(canny, None, iterations=1)\n",
    "    canny = cv.erode(canny, None, iterations=1)\n",
    "    #_, th = cv.threshold(gray, 50, 255, cv.THRESH_BINARY)\n",
    "\n",
    "    #####################################################\n",
    "\n",
    "    #Busca el contorno de las figuras de la imgen binaria\n",
    "    cnts,_ = cv.findContours(canny, cv.RETR_EXTERNAL, cv.CHAIN_APPROX_SIMPLE)\n",
    "    contornos = cv.drawContours(imagen,cnts,-1,(255,255,0), 2)\n",
    "\n",
    "\n",
    "    #####################################################\n",
    "\n",
    "    imagenHSV = cv.cvtColor(imagen, cv.COLOR_BGR2HSV)\n",
    "\n",
    "    # azulfuerte\n",
    "    azulBajo = np.array([111, 75, 85])#, np.uint8)\n",
    "    azulFuerte = np.array([130,255, 255])#, np.uint8)\n",
    "\n",
    "    #azulBajo = np.array([100,65,75])\n",
    "    #azulFuerte = np.array([130, 255, 255])\n",
    "\n",
    "    ####################################################\n",
    "\n",
    "    maskAzul = cv.inRange(imagenHSV, azulBajo, azulFuerte)\n",
    "    mediana = cv.medianBlur(maskAzul, 3)\n",
    "    cv.imwrite(\"BLUE_MASK.jpeg\", mediana)\n",
    "\n",
    "    img_blue = cv.imread('BLUE_MASK.jpeg')\n",
    "    gray2 = cv.cvtColor(img_blue, cv.COLOR_BGR2GRAY)\n",
    "    _, th = cv.threshold(gray2, 50, 255, cv.THRESH_BINARY)\n",
    "    canny2 = cv.Canny(th, 100,150)\n",
    "    cntsAzul,_ = cv.findContours(canny2, cv.RETR_EXTERNAL, cv.CHAIN_APPROX_SIMPLE) #Reemplaza por 1, si tienes OpenCV3\n",
    "\n",
    "    for c in cntsAzul:\n",
    "        x, y, w, h = cv.boundingRect(c)\n",
    "        epsilon = 0.03*cv.arcLength(c, True)\n",
    "        approx = cv.approxPolyDP(c, epsilon, True)\n",
    "        #print(len(approx2))\n",
    "        area = cv.contourArea(c)\n",
    "        if area > 10:\n",
    "            list_x_areas.append([x,area])\n",
    "            cv.putText(imagen,str(x),(x,y-5),1,0.8,(0,255,0),1)\n",
    "        if len(approx) == 4:\n",
    "            rectangulo_azul = rectangulo_azul + 1\n",
    "    \n",
    "\n",
    "    k = cv.waitKey(0)\n",
    "    cv.destroyAllWindows()\n",
    "    return list_x_areas"
   ]
  },
  {
   "cell_type": "code",
   "execution_count": 27,
   "metadata": {},
   "outputs": [],
   "source": [
    "lista=x_area(\"page_3.jpeg\")"
   ]
  },
  {
   "cell_type": "code",
   "execution_count": 119,
   "metadata": {},
   "outputs": [
    {
     "data": {
      "text/plain": [
       "[[265, 1141.0], [136, 2307.0], [222, 3578.5], [93, 3587.5]]"
      ]
     },
     "execution_count": 119,
     "metadata": {},
     "output_type": "execute_result"
    }
   ],
   "source": [
    "lista"
   ]
  },
  {
   "cell_type": "code",
   "execution_count": 120,
   "metadata": {},
   "outputs": [
    {
     "data": {
      "text/plain": [
       "[[265, 2354.0],\n",
       " [222, 3563.5],\n",
       " [179, 3685.0],\n",
       " [136, 3465.5],\n",
       " [93, 3582.5],\n",
       " [50, 2853.0],\n",
       " [309, 3407.5],\n",
       " [265, 3552.5],\n",
       " [222, 3569.0],\n",
       " [179, 3680.0],\n",
       " [136, 3443.5],\n",
       " [93, 3594.0]]"
      ]
     },
     "execution_count": 120,
     "metadata": {},
     "output_type": "execute_result"
    }
   ],
   "source": [
    "list_x_areas\n"
   ]
  },
  {
   "cell_type": "code",
   "execution_count": 123,
   "metadata": {},
   "outputs": [],
   "source": [
    "list_habilides_score=[]\n",
    "for i in range (len(list_x_areas)):\n",
    "    if i  < 5:\n",
    "        if list_x_areas[i][0]==93:\n",
    "            por=ARTICLES_Y_PREPOSITIONS(list_x_areas[i][1])\n",
    "            list_habilides_score.append(['CATCHING DETAILS',int(por)])\n",
    "        elif list_x_areas[i][0]==136:\n",
    "            por=ARTICLES_Y_PREPOSITIONS(list_x_areas[i][1])\n",
    "            list_habilides_score.append(['CONNECTING CONTENT',int(por)])\n",
    "        elif list_x_areas[i][0]==179:\n",
    "            por=ARTICLES_Y_PREPOSITIONS(list_x_areas[i][1])\n",
    "            list_habilides_score.append(['DETERMINING THE PURPOSE',int(por)])\n",
    "        elif list_x_areas[i][0]==222:\n",
    "            por=ARTICLES_Y_PREPOSITIONS(list_x_areas[i][1])\n",
    "            list_habilides_score.append(['MAIN IDEA',int(por)])\n",
    "        elif list_x_areas[i][0]==265:\n",
    "            por=ARTICLES_Y_PREPOSITIONS(list_x_areas[i][1])\n",
    "            list_habilides_score.append(['MAKING IMPLICATIONS',int(por)])\n",
    "    elif i  > 4:\n",
    "        if list_x_areas[i][0]==50:\n",
    "            por=ARTICLES_Y_PREPOSITIONS(list_x_areas[i][1])\n",
    "            list_habilides_score.append(['ARTICLES Y PREPOSITIONS',int(por)])\n",
    "        elif list_x_areas[i][0]==93:\n",
    "            por=ARTICLES_Y_PREPOSITIONS(list_x_areas[i][1])\n",
    "            list_habilides_score.append(['CONJUNCTIONS',int(por)])\n",
    "        elif list_x_areas[i][0]==136:\n",
    "            por=ARTICLES_Y_PREPOSITIONS(list_x_areas[i][1])\n",
    "            list_habilides_score.append(['EXPRESSING QUANTITY',int(por)])\n",
    "        elif list_x_areas[i][0]==179:\n",
    "            por=ARTICLES_Y_PREPOSITIONS(list_x_areas[i][1])\n",
    "            list_habilides_score.append(['PARTS OF SPEECH',int(por)])\n",
    "        elif list_x_areas[i][0]==222:\n",
    "            por=ARTICLES_Y_PREPOSITIONS(list_x_areas[i][1])\n",
    "            list_habilides_score.append(['PRONOUNS',int(por)])\n",
    "        elif list_x_areas[i][0]==265:\n",
    "            por=ARTICLES_Y_PREPOSITIONS(list_x_areas[i][1])\n",
    "            list_habilides_score.append(['SENTENCE STRUCTURE',int(por)])\n",
    "        elif list_x_areas[i][0]==309:\n",
    "            por=ARTICLES_Y_PREPOSITIONS(list_x_areas[i][1])\n",
    "            list_habilides_score.append(['VERBFORMS',int(por)])"
   ]
  },
  {
   "cell_type": "code",
   "execution_count": 158,
   "metadata": {
    "collapsed": true
   },
   "outputs": [],
   "source": [
    "def calculate_porcentage1(listaa):\n",
    "    list_habilides_score=[]\n",
    "    for i in range (len(listaa)):\n",
    "        if i  < 5:\n",
    "            if list_x_areas[i][0]==93:\n",
    "                por=CATCHING_DETAILS(list_x_areas[i][1])\n",
    "                CATCHING_DETAILS1.append(int(por))\n",
    "            elif list_x_areas[i][0]==136:\n",
    "                por=CONNECTING_CONTENT(list_x_areas[i][1])\n",
    "                CONNECTING_CONTENT1.append(int(por))\n",
    "            elif list_x_areas[i][0]==179:\n",
    "                por=DETERMINING_THE_PURPOSE(list_x_areas[i][1])\n",
    "                DETERMINING_THE_PURPOSE1.append(int(por))\n",
    "            elif list_x_areas[i][0]==222:\n",
    "                por=MAIN_IDEA(list_x_areas[i][1])\n",
    "                MAIN_IDEA1.append(int(por))\n",
    "            elif list_x_areas[i][0]==265:\n",
    "                por=MAKING_IMPLICATIONS(list_x_areas[i][1])\n",
    "                MAKING_IMPLICATIONS1.append(int(por))\n",
    "        elif i  > 4:\n",
    "            if list_x_areas[i][0]==50:\n",
    "                por=ARTICLES_Y_PREPOSITIONS(list_x_areas[i][1])\n",
    "                ARTICLES_Y_PREPOSITIONS1.append(int(por))\n",
    "            elif list_x_areas[i][0]==93:\n",
    "                por=CONJUNCTIONS(list_x_areas[i][1])\n",
    "                CONJUNCTIONS1.append(int(por))\n",
    "            elif list_x_areas[i][0]==136:\n",
    "                por=EXPRESSING_QUANTITY(list_x_areas[i][1])\n",
    "                EXPRESSING_QUANTITY1.append(int(por))\n",
    "            elif list_x_areas[i][0]==179:\n",
    "                por=PARTS_OF_SPEECH(list_x_areas[i][1])\n",
    "                PARTS_OF_SPEECH1.append(int(por))\n",
    "            elif list_x_areas[i][0]==222:\n",
    "                por=PRONOUNS(list_x_areas[i][1])\n",
    "                PRONOUNS1.append(int(por))\n",
    "            elif list_x_areas[i][0]==265:\n",
    "                por=SENTENCE_STRUCTURE(list_x_areas[i][1])\n",
    "                SENTENCE_STRUCTURE1.append(int(por))\n",
    "            elif list_x_areas[i][0]==309:\n",
    "                por=VERB_FORMS(list_x_areas[i][1])\n",
    "                VERB_FORMS1.append(int(por))\n",
    "    return list_habilides_score"
   ]
  },
  {
   "cell_type": "code",
   "execution_count": 157,
   "metadata": {},
   "outputs": [],
   "source": [
    "def calculate_porcentage2(listaa):\n",
    "    list_habilides_score=[]\n",
    "    for i in range (len(listaa)):\n",
    "        if listaa[i][0]==93:\n",
    "            por=DETAIL(listaa[i][1])\n",
    "            DETAIL1.append(int(por))\n",
    "        elif listaa[i][0]==136:\n",
    "            por=MAIN_IDEA2(listaa[i][1])\n",
    "            MAIN_IDEA12.append(int(por))\n",
    "        elif listaa[i][0]==179:\n",
    "            por=SEQUENCING(listaa[i][1])\n",
    "            SEQUENCING1.append(int(por))\n",
    "        elif listaa[i][0]==222:\n",
    "            por=SYNTHESIS(listaa[i][1])\n",
    "            SYNTHESIS1.append(int(por))\n",
    "        elif listaa[i][0]==265:\n",
    "            por=VOCABULARY(listaa[i][1])\n",
    "            VOCABULARY1.append(int(por))\n",
    "    return list_habilides_score"
   ]
  },
  {
   "cell_type": "code",
   "execution_count": 78,
   "metadata": {},
   "outputs": [
    {
     "data": {
      "text/plain": [
       "[['CONNECTING CONTENT', 47],\n",
       " ['DETERMINING THE PURPOSE', 67],\n",
       " ['CATCHING DETAILS', 66],\n",
       " ['MAKING IMPLICATIONS', 74],\n",
       " ['MAIN IDEA', 99],\n",
       " ['VERBFORMS', 22],\n",
       " ['SENTENCE STRUCTURE', 65],\n",
       " ['PRONOUNS', 65],\n",
       " ['EXPRESSING QUANTITY', 72],\n",
       " ['ARTICLES Y PREPOSITIONS', 74],\n",
       " ['PARTS OF SPEECH', 102],\n",
       " ['CONJUNCTIONS', 100]]"
      ]
     },
     "execution_count": 78,
     "metadata": {},
     "output_type": "execute_result"
    }
   ],
   "source": [
    "list_habilides_score"
   ]
  },
  {
   "cell_type": "code",
   "execution_count": 68,
   "metadata": {
    "collapsed": true
   },
   "outputs": [],
   "source": []
  },
  {
   "cell_type": "code",
   "execution_count": 31,
   "metadata": {},
   "outputs": [
    {
     "name": "stdout",
     "output_type": "stream",
     "text": [
      "SQLite version: 3.14.2\n"
     ]
    }
   ],
   "source": [
    "\n",
    "import sqlite3 as lite\n",
    "import sys\n",
    "\n",
    "con = lite.connect('test.db')\n",
    "\n",
    "with con:\n",
    "    \n",
    "    cur = con.cursor()    \n",
    "    cur.execute('SELECT SQLITE_VERSION()')\n",
    "    \n",
    "    data = cur.fetchone()\n",
    "    \n",
    "    print (\"SQLite version: %s\" % data)"
   ]
  },
  {
   "cell_type": "code",
   "execution_count": null,
   "metadata": {
    "collapsed": true
   },
   "outputs": [],
   "source": []
  },
  {
   "cell_type": "code",
   "execution_count": 163,
   "metadata": {
    "collapsed": true
   },
   "outputs": [],
   "source": [
    "import xlsxwriter"
   ]
  },
  {
   "cell_type": "code",
   "execution_count": 166,
   "metadata": {},
   "outputs": [],
   "source": [
    "outWorkbook = xlsxwriter.Workbook(\"Result_itep.xlsx\")\n",
    "outSheet = outWorkbook.add_worksheet()\n",
    "for item in range(len(columns)):\n",
    "    outSheet.write(0,item,columns[item])\n",
    "for item in range(len(ARTICLES_Y_PREPOSITIONS1)):\n",
    "    outSheet.write(item+1,0,ARTICLES_Y_PREPOSITIONS1[item])\n",
    "    outSheet.write(item+1,1,CONJUNCTIONS1[item])\n",
    "    outSheet.write(item+1,2,EXPRESSING_QUANTITY1[item])\n",
    "    outSheet.write(item+1,3,PARTS_OF_SPEECH1[item])\n",
    "    outSheet.write(item+1,4,PRONOUNS1[item])\n",
    "    outSheet.write(item+1,5,SENTENCE_STRUCTURE1[item])\n",
    "    outSheet.write(item+1,6,VERB_FORMS1[item])\n",
    "    outSheet.write(item+1,7,CATCHING_DETAILS1[item])\n",
    "    outSheet.write(item+1,8,CONNECTING_CONTENT1[item])\n",
    "    outSheet.write(item+1,9,DETERMINING_THE_PURPOSE1[item])\n",
    "    outSheet.write(item+1,10,MAIN_IDEA1[item])\n",
    "    outSheet.write(item+1,11,MAKING_IMPLICATIONS1[item])\n",
    "    outSheet.write(item+1,12,DETAIL1[item])\n",
    "    outSheet.write(item+1,13,MAIN_IDEA12[item])\n",
    "    outSheet.write(item+1,14,SEQUENCING1[item])\n",
    "    outSheet.write(item+1,15,SYNTHESIS1[item])\n",
    "    outSheet.write(item+1,16,VOCABULARY1[item])\n",
    "outWorkbook.close()"
   ]
  }
 ],
 "metadata": {
  "kernelspec": {
   "display_name": "Python 3",
   "language": "python",
   "name": "python3"
  },
  "language_info": {
   "codemirror_mode": {
    "name": "ipython",
    "version": 3
   },
   "file_extension": ".py",
   "mimetype": "text/x-python",
   "name": "python",
   "nbconvert_exporter": "python",
   "pygments_lexer": "ipython3",
   "version": "3.6.1"
  }
 },
 "nbformat": 4,
 "nbformat_minor": 2
}
