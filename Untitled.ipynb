{
 "cells": [
  {
   "cell_type": "code",
   "execution_count": 7,
   "metadata": {
    "collapsed": true
   },
   "outputs": [],
   "source": [
    "from PIL import Image\n",
    "import pytesseract\n",
    "import sys\n",
    "from pdf2image import convert_from_path\n",
    "import os\n",
    "from os import remove\n",
    "import cv2 as cv\n",
    "import numpy as np\n",
    "import pandas as pd"
   ]
  },
  {
   "cell_type": "code",
   "execution_count": 8,
   "metadata": {
    "collapsed": true
   },
   "outputs": [],
   "source": [
    "from tabula import read_pdf\n",
    "import tabula"
   ]
  },
  {
   "cell_type": "code",
   "execution_count": 108,
   "metadata": {
    "collapsed": true
   },
   "outputs": [],
   "source": [
    "#Big_skils\n",
    "Grammar = []\n",
    "Listening = []\n",
    "Reading = []\n",
    "Writing = []\n",
    "Speaking = []\n",
    "Level = []\n",
    "#Grammar\n",
    "ARTICLES_Y_PREPOSITIONS1 = []\n",
    "CONJUNCTIONS1 = []\n",
    "EXPRESSING_QUANTITY1 = []\n",
    "PARTS_OF_SPEECH1 = []\n",
    "PRONOUNS1 = []\n",
    "SENTENCE_STRUCTURE1 = []\n",
    "VERB_FORMS1 = []\n",
    "#listening\n",
    "CATCHING_DETAILS1 = []\n",
    "CONNECTING_CONTENT1 = []\n",
    "DETERMINING_THE_PURPOSE1 = []\n",
    "MAIN_IDEA1 = []\n",
    "MAKING_IMPLICATIONS1 = []\n",
    "#reading\n",
    "DETAIL1 = []\n",
    "MAIN_IDEA12 = []\n",
    "SEQUENCING1 = []\n",
    "SYNTHESIS1 = []\n",
    "VOCABULARY1 = []\n",
    "#\n",
    "list_habi = [\"ARTICLES_Y_PREPOSITIONS\",\"CONJUNCTIONS\",\"EXPRESSING_QUANTITY\",\"PARTS_OF_SPEECH\",\"PRONOUNS\",\"SENTENCE_STRUCTURE\",\"VERB_FORMS\", \"CATCHING_DETAILS\",\"CONNECTING_CONTENT\",\"DETERMINING_THE_PURPOSE\", \"MAIN_IDEA\", \"MAKING_IMPLICATIONS\", \"DETAIL\",\"MAIN_IDEA1\",\"SEQUENCING\",\"SYNTHESIS\", \"VOCABULARY\"]\n",
    "list_habilides_score =[]\n",
    "columns=[\"Level\",\"Grammar\",\"Listening\",\"Reading\",\"Writing\",\"Speaking\",\"ARTICLES_Y_PREPOSITIONS\",\"CONJUNCTIONS\",\"EXPRESSING_QUANTITY\",\"PARTS_OF_SPEECH\",\"PRONOUNS\",\"SENTENCE_STRUCTURE\",\"VERB_FORMS\", \"CATCHING_DETAILS\",\"CONNECTING_CONTENT\",\"DETERMINING_THE_PURPOSE\", \"MAIN_IDEA\", \"MAKING_IMPLICATIONS\", \"DETAIL\",\"MAIN_IDEA\",\"SEQUENCING\",\"SYNTHESIS\", \"VOCABULARY\"]"
   ]
  },
  {
   "cell_type": "code",
   "execution_count": null,
   "metadata": {},
   "outputs": [],
   "source": []
  },
  {
   "cell_type": "code",
   "execution_count": null,
   "metadata": {},
   "outputs": [],
   "source": []
  },
  {
   "cell_type": "code",
   "execution_count": 96,
   "metadata": {},
   "outputs": [],
   "source": [
    "def check_list(lista_colum):\n",
    "    for i in range(len(lista_colum)):\n",
    "        if lista_colum[i] not in list_habilides_score:\n",
    "            if list_habi[i] == \"ARTICLES_Y_PREPOSITIONS\":\n",
    "                ARTICLES_Y_PREPOSITIONS1.append(0)\n",
    "            elif list_habi[i] == \"CONJUNCTIONS\":\n",
    "                CONJUNCTIONS1.append(0)\n",
    "            elif list_habi[i] == \"EXPRESSING_QUANTITY\":\n",
    "                EXPRESSING_QUANTITY1.append(0)\n",
    "            elif list_habi[i] == \"PARTS_OF_SPEECH\":\n",
    "                PARTS_OF_SPEECH1.append(0)\n",
    "            elif list_habi[i] == \"PRONOUNS\":\n",
    "                PRONOUNS1.append(0)\n",
    "            elif list_habi[i] == \"SENTENCE_STRUCTURE\":\n",
    "                SENTENCE_STRUCTURE1.append(0)\n",
    "            elif list_habi[i] == \"VERB_FORMS\":\n",
    "                VERB_FORMS1.append(0)\n",
    "            elif list_habi[i] == \"CATCHING_DETAILS\":\n",
    "                CATCHING_DETAILS1.append(0)\n",
    "            elif list_habi[i] == \"CONNECTING_CONTENT\":\n",
    "                CONNECTING_CONTENT1.append(0)\n",
    "            elif list_habi[i] == \"DETERMINING_THE_PURPOSE\":\n",
    "                DETERMINING_THE_PURPOSE.append(0)\n",
    "            elif list_habi[i] == \"MAIN_IDEA\":\n",
    "                MAIN_IDEA1.append(0)\n",
    "            elif list_habi[i] == \"MAKING_IMPLICATIONS\":\n",
    "                MAKING_IMPLICATIONS1.append(0)\n",
    "            elif list_habi[i] == \"DETAIL\":\n",
    "                DETAIL1.append(0)\n",
    "            elif list_habi[i] == \"MAIN_IDEA1\":\n",
    "                MAIN_IDEA12.append(0)\n",
    "            elif list_habi[i] == \"SEQUENCING\":\n",
    "                SEQUENCING1.append(0)\n",
    "            elif list_habi[i] == \"SYNTHESIS\":\n",
    "                SYNTHESIS1.append(0)\n",
    "            elif list_habi[i] == \"VOCABULARY\":\n",
    "                VOCABULARY1.append(0)"
   ]
  },
  {
   "cell_type": "code",
   "execution_count": 30,
   "metadata": {},
   "outputs": [
    {
     "name": "stdout",
     "output_type": "stream",
     "text": [
      "0\n"
     ]
    }
   ],
   "source": [
    "a = 0\n",
    "\n",
    "print(a)"
   ]
  },
  {
   "cell_type": "code",
   "execution_count": 50,
   "metadata": {
    "collapsed": true
   },
   "outputs": [],
   "source": [
    "#Grammar\n",
    "def ARTICLES_Y_PREPOSITIONS(area):\n",
    "    porcentage= (area*100)/3583.0\n",
    "    return porcentage\n",
    "def CONJUNCTIONS(area):\n",
    "    porcentage= (area*100)/3594.0\n",
    "    return porcentage\n",
    "def EXPRESSING_QUANTITY(area):\n",
    "    porcentage= (area*100)/3443.5\n",
    "    return porcentage\n",
    "def PARTS_OF_SPEECH(area):\n",
    "    porcentage= (area*100)/3680.0\n",
    "    return porcentage\n",
    "def PRONOUNS(area):\n",
    "    porcentage= (area*100)/3569.0\n",
    "    return porcentage\n",
    "def SENTENCE_STRUCTURE(area):\n",
    "    porcentage= (area*100)/3552.5\n",
    "    return porcentage\n",
    "def VERB_FORMS(area):\n",
    "    porcentage= (area*100)/3407.5\n",
    "    return porcentage\n",
    "#listening\n",
    "def CATCHING_DETAILS(area):\n",
    "    porcentage= (area*100)/3582.5\n",
    "    porcentage= porcentage\n",
    "    return porcentage\n",
    "def CONNECTING_CONTENT(area):\n",
    "    porcentage= (area*100)/3465.5\n",
    "    porcentage= porcentage\n",
    "    return porcentage\n",
    "def DETERMINING_THE_PURPOSE(area):\n",
    "    porcentage= (area*100)/3685\n",
    "    porcentage= porcentage\n",
    "    return porcentage\n",
    "def MAIN_IDEA(area):\n",
    "    porcentage= (area*100)/3563.5\n",
    "    porcentage= porcentage\n",
    "    return porcentage\n",
    "def MAKING_IMPLICATIONS(area):\n",
    "    porcentage= (area*100)/3554.5\n",
    "    porcentage= porcentage\n",
    "    return porcentage\n",
    "#reading\n",
    "def DETAIL(area):\n",
    "    porcentage= (area*100)/3587.5\n",
    "    porcentage= porcentage\n",
    "    return porcentage\n",
    "def MAIN_IDEA2(area):\n",
    "    porcentage= (area*100)/3462.0\n",
    "    porcentage= porcentage\n",
    "    return porcentage\n",
    "def SEQUENCING(area):\n",
    "    porcentage= (area*100)/3683.0\n",
    "    porcentage= porcentage\n",
    "    return porcentage\n",
    "def SYNTHESIS(area):\n",
    "    porcentage= (area*100)/3578.5\n",
    "    porcentage= porcentage\n",
    "    return porcentage\n",
    "def VOCABULARY(area):\n",
    "    porcentage= (area*100)/3551.5\n",
    "    porcentage= porcentage\n",
    "    return porcentage"
   ]
  },
  {
   "cell_type": "code",
   "execution_count": 104,
   "metadata": {
    "collapsed": true
   },
   "outputs": [],
   "source": [
    "def tablaa(df):\n",
    "    a=list(df[0]['TEST SECTION'])\n",
    "    b=list(df[0]['SCORE'])\n",
    "    c=list(df[0]['LEVEL'])\n",
    "    level = 0\n",
    "    for i in range(len(a)):\n",
    "        if a[i] == \"Grammar\":\n",
    "            Grammar.append(b[i])\n",
    "            level = level + c[i]\n",
    "        elif a[i] == \"Listening\":\n",
    "            Listening.append(b[i])\n",
    "            level = level + c[i]\n",
    "        elif a[i] == \"Reading\":\n",
    "            Reading.append(b[i])\n",
    "            level = level + c[i]\n",
    "        elif a[i] == \"Writing\":\n",
    "            Writing.append(b[i])\n",
    "            level = level + c[i]\n",
    "        elif a[i] == \"Speaking\":\n",
    "            Speaking.append(b[i])\n",
    "            level = level + c[i]\n",
    "    Level.append((level)/5)"
   ]
  },
  {
   "cell_type": "code",
   "execution_count": 52,
   "metadata": {
    "collapsed": true
   },
   "outputs": [],
   "source": [
    "def x_area(foto):\n",
    "      #******************************************\n",
    "    list_x_areas=[]\n",
    "    rectangulo = 0\n",
    "    area_rectangulo = 0 \n",
    "    rectangulo_azul = 0\n",
    "    i = 0\n",
    "\n",
    "    #imagen = cv.imread('page_1.jpeg')\n",
    "    newImg = cv.imread(foto)\n",
    "    imagen = cv.resize(newImg, (0,0), fx=0.10, fy=0.10) #0.75\n",
    "    gray = cv.cvtColor(imagen, cv.COLOR_BGR2GRAY)\n",
    "    canny = cv.Canny(gray, 120,150)\n",
    "    canny = cv.dilate(canny, None, iterations=1)\n",
    "    canny = cv.erode(canny, None, iterations=1)\n",
    "    #_, th = cv.threshold(gray, 50, 255, cv.THRESH_BINARY)\n",
    "\n",
    "    #####################################################\n",
    "\n",
    "    #Busca el contorno de las figuras de la imgen binaria\n",
    "    cnts,_ = cv.findContours(canny, cv.RETR_EXTERNAL, cv.CHAIN_APPROX_SIMPLE)\n",
    "    contornos = cv.drawContours(imagen,cnts,-1,(255,255,0), 2)\n",
    "\n",
    "\n",
    "    #####################################################\n",
    "\n",
    "    imagenHSV = cv.cvtColor(imagen, cv.COLOR_BGR2HSV)\n",
    "\n",
    "    # azulfuerte\n",
    "    azulBajo = np.array([111, 75, 85])#, np.uint8)\n",
    "    azulFuerte = np.array([130,255, 255])#, np.uint8)\n",
    "\n",
    "    #azulBajo = np.array([100,65,75])\n",
    "    #azulFuerte = np.array([130, 255, 255])\n",
    "\n",
    "    ####################################################\n",
    "\n",
    "    maskAzul = cv.inRange(imagenHSV, azulBajo, azulFuerte)\n",
    "    mediana = cv.medianBlur(maskAzul, 3)\n",
    "    cv.imwrite(\"BLUE_MASK.jpeg\", mediana)\n",
    "\n",
    "    img_blue = cv.imread('BLUE_MASK.jpeg')\n",
    "    gray2 = cv.cvtColor(img_blue, cv.COLOR_BGR2GRAY)\n",
    "    _, th = cv.threshold(gray2, 50, 255, cv.THRESH_BINARY)\n",
    "    canny2 = cv.Canny(th, 100,150)\n",
    "    cntsAzul,_ = cv.findContours(canny2, cv.RETR_EXTERNAL, cv.CHAIN_APPROX_SIMPLE) #Reemplaza por 1, si tienes OpenCV3\n",
    "\n",
    "    for c in cntsAzul:\n",
    "        x, y, w, h = cv.boundingRect(c)\n",
    "        epsilon = 0.03*cv.arcLength(c, True)\n",
    "        approx = cv.approxPolyDP(c, epsilon, True)\n",
    "        #print(len(approx2))\n",
    "        area = cv.contourArea(c)\n",
    "        if area > 10:\n",
    "            list_x_areas.append([x,area])\n",
    "            cv.putText(imagen,str(x),(x,y-5),1,0.8,(0,255,0),1)\n",
    "        if len(approx) == 4:\n",
    "            rectangulo_azul = rectangulo_azul + 1\n",
    "    \n",
    "\n",
    "    k = cv.waitKey(0)\n",
    "    cv.destroyAllWindows()\n",
    "    return list_x_areas"
   ]
  },
  {
   "cell_type": "code",
   "execution_count": 78,
   "metadata": {
    "collapsed": true
   },
   "outputs": [],
   "source": [
    "def calculate_porcentage1(listaa):\n",
    "    for i in range (len(listaa)):\n",
    "        if i  < 5:\n",
    "            if listaa[i][0]==93:\n",
    "                por=CATCHING_DETAILS(listaa[i][1])\n",
    "                CATCHING_DETAILS1.append(int(por))\n",
    "                list_habilides_score.append('CATCHING_DETAILS')\n",
    "            elif listaa[i][0]==136:\n",
    "                por=CONNECTING_CONTENT(listaa[i][1])\n",
    "                CONNECTING_CONTENT1.append(int(por))\n",
    "                list_habilides_score.append('CONNECTING_CONTENT')\n",
    "            elif listaa[i][0]==179:\n",
    "                por=DETERMINING_THE_PURPOSE(listaa[i][1])\n",
    "                DETERMINING_THE_PURPOSE1.append(int(por))\n",
    "                list_habilides_score.append('DETERMINING_THE_PURPOSE')\n",
    "            elif listaa[i][0]==222:\n",
    "                por=MAIN_IDEA(listaa[i][1])\n",
    "                MAIN_IDEA1.append(int(por))\n",
    "                list_habilides_score.append('MAIN_IDEA')\n",
    "            elif listaa[i][0]==265:\n",
    "                por=MAKING_IMPLICATIONS(listaa[i][1])\n",
    "                MAKING_IMPLICATIONS1.append(int(por))\n",
    "                list_habilides_score.append('MAKING_IMPLICATIONS')\n",
    "        elif i  > 4:\n",
    "            if listaa[i][0]==50:\n",
    "                por=ARTICLES_Y_PREPOSITIONS(listaa[i][1])\n",
    "                ARTICLES_Y_PREPOSITIONS1.append(int(por))\n",
    "                list_habilides_score.append('ARTICLES_Y_PREPOSITIONS')\n",
    "            elif listaa[i][0]==93:\n",
    "                por=CONJUNCTIONS(listaa[i][1])\n",
    "                CONJUNCTIONS1.append(int(por))\n",
    "                list_habilides_score.append('CONJUNCTIONS')\n",
    "            elif listaa[i][0]==136:\n",
    "                por=EXPRESSING_QUANTITY(listaa[i][1])\n",
    "                EXPRESSING_QUANTITY1.append(int(por))\n",
    "                list_habilides_score.append('EXPRESSING_QUANTITY')\n",
    "            elif listaa[i][0]==179:\n",
    "                por=PARTS_OF_SPEECH(listaa[i][1])\n",
    "                PARTS_OF_SPEECH1.append(int(por))\n",
    "                list_habilides_score.append('PARTS_OF_SPEECH')\n",
    "            elif listaa[i][0]==222:\n",
    "                por=PRONOUNS(listaa[i][1])\n",
    "                PRONOUNS1.append(int(por))\n",
    "                list_habilides_score.append('PRONOUNS')\n",
    "            elif listaa[i][0]==265:\n",
    "                por=SENTENCE_STRUCTURE(listaa[i][1])\n",
    "                SENTENCE_STRUCTURE1.append(int(por))\n",
    "                list_habilides_score.append('SENTENCE_STRUCTURE')\n",
    "            elif listaa[i][0]==309:\n",
    "                por=VERB_FORMS(listaa[i][1])\n",
    "                VERB_FORMS1.append(int(por))\n",
    "                list_habilides_score.append('VERB_FORMS')"
   ]
  },
  {
   "cell_type": "code",
   "execution_count": 54,
   "metadata": {
    "collapsed": true
   },
   "outputs": [],
   "source": [
    "def calculate_porcentage2(listaa):\n",
    "    for i in range (len(listaa)):\n",
    "        if listaa[i][0]==93:\n",
    "            por=DETAIL(listaa[i][1])\n",
    "            DETAIL1.append(int(por))\n",
    "            list_habilides_score.append('DETAIL')\n",
    "        elif listaa[i][0]==136:\n",
    "            por=MAIN_IDEA2(listaa[i][1])\n",
    "            MAIN_IDEA12.append(int(por))\n",
    "            list_habilides_score.append('MAIN_IDEA1')\n",
    "        elif listaa[i][0]==179:\n",
    "            por=SEQUENCING(listaa[i][1])\n",
    "            SEQUENCING1.append(int(por))\n",
    "            list_habilides_score.append('SEQUENCING')\n",
    "        elif listaa[i][0]==222:\n",
    "            por=SYNTHESIS(listaa[i][1])\n",
    "            SYNTHESIS1.append(int(por))\n",
    "            list_habilides_score.append('SYNTHESIS')\n",
    "        elif listaa[i][0]==265:\n",
    "            por=VOCABULARY(listaa[i][1])\n",
    "            VOCABULARY1.append(int(por))\n",
    "            list_habilides_score.append('VOCABULARY')"
   ]
  },
  {
   "cell_type": "code",
   "execution_count": null,
   "metadata": {
    "collapsed": true
   },
   "outputs": [],
   "source": []
  },
  {
   "cell_type": "code",
   "execution_count": 105,
   "metadata": {
    "collapsed": true
   },
   "outputs": [],
   "source": [
    "def pdf():\n",
    "    for i in range(2):\n",
    "        num=i+1\n",
    "        pages = convert_from_path(\"doc\"+str(num)+\".pdf\",500)\n",
    "        image_counter = 1\n",
    "  \n",
    "        # Iterate through all the pages stored above \n",
    "        for page in pages: \n",
    "\n",
    "            # Declaring filename for each page of PDF as JPG \n",
    "            # For each page, filename will be: \n",
    "            # PDF page 1 -> page_1.jpg \n",
    "            # PDF page 2 -> page_2.jpg \n",
    "            # PDF page 3 -> page_3.jpg \n",
    "            # .... \n",
    "            # PDF page n -> page_n.jpg \n",
    "            filename = \"page_\"+str(image_counter)+\".jpeg\"\n",
    "\n",
    "            # Save the image of the page in system \n",
    "            page.save(filename, 'JPEG') \n",
    "\n",
    "            # Increment the counter to update filename \n",
    "            image_counter = image_counter + 1\n",
    "        lista2=x_area(\"page_2.jpeg\")\n",
    "        lista3=x_area(\"page_3.jpeg\")\n",
    "        calculate_porcentage1(lista2)\n",
    "        calculate_porcentage2(lista3)\n",
    "        check_list(list_habi)\n",
    "        \n",
    "        \n",
    "        pdf_path = \"doc\"+str(num)+\".pdf\"\n",
    "        dfs = tabula.read_pdf(pdf_path, pages=\"1\", stream=True)\n",
    "        tablaa(dfs)\n",
    "        remove(\"page_1.jpeg\")\n",
    "        remove(\"page_2.jpeg\")\n",
    "        remove(\"page_3.jpeg\")\n",
    "        print(\"doc\"+str(num)+\".pdf\")\n",
    "        print(\"*********************************************\")\n",
    "\n",
    "\n"
   ]
  },
  {
   "cell_type": "code",
   "execution_count": 103,
   "metadata": {},
   "outputs": [
    {
     "name": "stderr",
     "output_type": "stream",
     "text": [
      "Got stderr: nov 27, 2020 11:53:03 AM org.apache.pdfbox.pdmodel.encryption.SecurityHandler decryptStream\r\n",
      "ADVERTENCIA: Metadata is not encrypted, but was expected to be\r\n",
      "nov 27, 2020 11:53:03 AM org.apache.pdfbox.pdmodel.encryption.SecurityHandler decryptStream\r\n",
      "ADVERTENCIA: Read PDF specification about EncryptMetadata (default value: true)\r\n",
      "nov 27, 2020 11:53:04 AM org.apache.pdfbox.rendering.PDFRenderer suggestKCMS\r\n",
      "INFORMACIÓN: Your current java version is: 1.8.0_181\r\n",
      "nov 27, 2020 11:53:04 AM org.apache.pdfbox.rendering.PDFRenderer suggestKCMS\r\n",
      "INFORMACIÓN: To get higher rendering speed on old java 1.8 or 9 versions,\r\n",
      "nov 27, 2020 11:53:04 AM org.apache.pdfbox.rendering.PDFRenderer suggestKCMS\r\n",
      "INFORMACIÓN:   update to the latest 1.8 or 9 version (>= 1.8.0_191 or >= 9.0.4),\r\n",
      "nov 27, 2020 11:53:04 AM org.apache.pdfbox.rendering.PDFRenderer suggestKCMS\r\n",
      "INFORMACIÓN:   or\r\n",
      "nov 27, 2020 11:53:04 AM org.apache.pdfbox.rendering.PDFRenderer suggestKCMS\r\n",
      "INFORMACIÓN:   use the option -Dsun.java2d.cmm=sun.java2d.cmm.kcms.KcmsServiceProvider\r\n",
      "nov 27, 2020 11:53:04 AM org.apache.pdfbox.rendering.PDFRenderer suggestKCMS\r\n",
      "INFORMACIÓN:   or call System.setProperty(\"sun.java2d.cmm\", \"sun.java2d.cmm.kcms.KcmsServiceProvider\")\r\n",
      "\n"
     ]
    },
    {
     "data": {
      "text/plain": [
       "[  TEST SECTION  SCORE  LEVEL         DESCRIPTION\n",
       " 0      Grammar     52    2.5        Intermediate\n",
       " 1    Listening     42    2.0          Elementary\n",
       " 2      Reading    100    6.0             Mastery\n",
       " 3      Writing     70    3.5  Upper Intermediate\n",
       " 4     Speaking     70    3.5  Upper Intermediate]"
      ]
     },
     "execution_count": 103,
     "metadata": {},
     "output_type": "execute_result"
    }
   ],
   "source": [
    "pdf_path = \"doc1.pdf\"\n",
    "dfs = tabula.read_pdf(pdf_path, pages=\"1\", stream=True)\n",
    "dfs"
   ]
  },
  {
   "cell_type": "code",
   "execution_count": 109,
   "metadata": {},
   "outputs": [
    {
     "name": "stderr",
     "output_type": "stream",
     "text": [
      "Got stderr: nov 27, 2020 11:56:40 AM org.apache.pdfbox.pdmodel.encryption.SecurityHandler decryptStream\r\n",
      "ADVERTENCIA: Metadata is not encrypted, but was expected to be\r\n",
      "nov 27, 2020 11:56:40 AM org.apache.pdfbox.pdmodel.encryption.SecurityHandler decryptStream\r\n",
      "ADVERTENCIA: Read PDF specification about EncryptMetadata (default value: true)\r\n",
      "nov 27, 2020 11:56:41 AM org.apache.pdfbox.rendering.PDFRenderer suggestKCMS\r\n",
      "INFORMACIÓN: Your current java version is: 1.8.0_181\r\n",
      "nov 27, 2020 11:56:41 AM org.apache.pdfbox.rendering.PDFRenderer suggestKCMS\r\n",
      "INFORMACIÓN: To get higher rendering speed on old java 1.8 or 9 versions,\r\n",
      "nov 27, 2020 11:56:41 AM org.apache.pdfbox.rendering.PDFRenderer suggestKCMS\r\n",
      "INFORMACIÓN:   update to the latest 1.8 or 9 version (>= 1.8.0_191 or >= 9.0.4),\r\n",
      "nov 27, 2020 11:56:41 AM org.apache.pdfbox.rendering.PDFRenderer suggestKCMS\r\n",
      "INFORMACIÓN:   or\r\n",
      "nov 27, 2020 11:56:41 AM org.apache.pdfbox.rendering.PDFRenderer suggestKCMS\r\n",
      "INFORMACIÓN:   use the option -Dsun.java2d.cmm=sun.java2d.cmm.kcms.KcmsServiceProvider\r\n",
      "nov 27, 2020 11:56:41 AM org.apache.pdfbox.rendering.PDFRenderer suggestKCMS\r\n",
      "INFORMACIÓN:   or call System.setProperty(\"sun.java2d.cmm\", \"sun.java2d.cmm.kcms.KcmsServiceProvider\")\r\n",
      "\n"
     ]
    },
    {
     "name": "stdout",
     "output_type": "stream",
     "text": [
      "doc1.pdf\n",
      "*********************************************\n"
     ]
    },
    {
     "name": "stderr",
     "output_type": "stream",
     "text": [
      "Got stderr: nov 27, 2020 11:57:00 AM org.apache.pdfbox.pdmodel.encryption.SecurityHandler decryptStream\r\n",
      "ADVERTENCIA: Metadata is not encrypted, but was expected to be\r\n",
      "nov 27, 2020 11:57:00 AM org.apache.pdfbox.pdmodel.encryption.SecurityHandler decryptStream\r\n",
      "ADVERTENCIA: Read PDF specification about EncryptMetadata (default value: true)\r\n",
      "nov 27, 2020 11:57:01 AM org.apache.pdfbox.rendering.PDFRenderer suggestKCMS\r\n",
      "INFORMACIÓN: Your current java version is: 1.8.0_181\r\n",
      "nov 27, 2020 11:57:01 AM org.apache.pdfbox.rendering.PDFRenderer suggestKCMS\r\n",
      "INFORMACIÓN: To get higher rendering speed on old java 1.8 or 9 versions,\r\n",
      "nov 27, 2020 11:57:01 AM org.apache.pdfbox.rendering.PDFRenderer suggestKCMS\r\n",
      "INFORMACIÓN:   update to the latest 1.8 or 9 version (>= 1.8.0_191 or >= 9.0.4),\r\n",
      "nov 27, 2020 11:57:01 AM org.apache.pdfbox.rendering.PDFRenderer suggestKCMS\r\n",
      "INFORMACIÓN:   or\r\n",
      "nov 27, 2020 11:57:01 AM org.apache.pdfbox.rendering.PDFRenderer suggestKCMS\r\n",
      "INFORMACIÓN:   use the option -Dsun.java2d.cmm=sun.java2d.cmm.kcms.KcmsServiceProvider\r\n",
      "nov 27, 2020 11:57:01 AM org.apache.pdfbox.rendering.PDFRenderer suggestKCMS\r\n",
      "INFORMACIÓN:   or call System.setProperty(\"sun.java2d.cmm\", \"sun.java2d.cmm.kcms.KcmsServiceProvider\")\r\n",
      "\n"
     ]
    },
    {
     "name": "stdout",
     "output_type": "stream",
     "text": [
      "doc2.pdf\n",
      "*********************************************\n"
     ]
    }
   ],
   "source": [
    "pdf()"
   ]
  },
  {
   "cell_type": "code",
   "execution_count": 57,
   "metadata": {
    "collapsed": true
   },
   "outputs": [],
   "source": [
    "import xlsxwriter"
   ]
  },
  {
   "cell_type": "code",
   "execution_count": 110,
   "metadata": {},
   "outputs": [],
   "source": [
    "outWorkbook = xlsxwriter.Workbook(\"Result_itep.xlsx\")\n",
    "outSheet = outWorkbook.add_worksheet()\n",
    "for item in range(len(columns)):\n",
    "    outSheet.write(0,item,columns[item])\n",
    "for item in range(len(ARTICLES_Y_PREPOSITIONS1)):\n",
    "    outSheet.write(item+1,0,Level[item])\n",
    "    outSheet.write(item+1,1,Grammar[item])\n",
    "    outSheet.write(item+1,2,Listening[item])\n",
    "    outSheet.write(item+1,3,Reading[item])\n",
    "    outSheet.write(item+1,4,Writing[item])\n",
    "    outSheet.write(item+1,5,Speaking[item])\n",
    "    outSheet.write(item+1,6,ARTICLES_Y_PREPOSITIONS1[item])\n",
    "    outSheet.write(item+1,7,CONJUNCTIONS1[item])\n",
    "    outSheet.write(item+1,8,EXPRESSING_QUANTITY1[item])\n",
    "    outSheet.write(item+1,9,PARTS_OF_SPEECH1[item])\n",
    "    outSheet.write(item+1,10,PRONOUNS1[item])\n",
    "    outSheet.write(item+1,11,SENTENCE_STRUCTURE1[item])\n",
    "    outSheet.write(item+1,12,VERB_FORMS1[item])\n",
    "    outSheet.write(item+1,13,CATCHING_DETAILS1[item])\n",
    "    outSheet.write(item+1,14,CONNECTING_CONTENT1[item])\n",
    "    outSheet.write(item+1,15,DETERMINING_THE_PURPOSE1[item])\n",
    "    outSheet.write(item+1,16,MAIN_IDEA1[item])\n",
    "    outSheet.write(item+1,17,MAKING_IMPLICATIONS1[item])\n",
    "    outSheet.write(item+1,18,DETAIL1[item])\n",
    "    outSheet.write(item+1,19,MAIN_IDEA12[item])\n",
    "    outSheet.write(item+1,20,SEQUENCING1[item])\n",
    "    outSheet.write(item+1,21,SYNTHESIS1[item])\n",
    "    outSheet.write(item+1,22,VOCABULARY1[item])\n",
    "outWorkbook.close()"
   ]
  },
  {
   "cell_type": "code",
   "execution_count": null,
   "metadata": {
    "collapsed": true
   },
   "outputs": [],
   "source": [
    "#!pip uninstall tabula"
   ]
  },
  {
   "cell_type": "code",
   "execution_count": 67,
   "metadata": {
    "collapsed": true
   },
   "outputs": [],
   "source": [
    "#!pip3 install tabula-py"
   ]
  }
 ],
 "metadata": {
  "kernelspec": {
   "display_name": "Python 3",
   "language": "python",
   "name": "python3"
  },
  "language_info": {
   "codemirror_mode": {
    "name": "ipython",
    "version": 3
   },
   "file_extension": ".py",
   "mimetype": "text/x-python",
   "name": "python",
   "nbconvert_exporter": "python",
   "pygments_lexer": "ipython3",
   "version": "3.6.1"
  }
 },
 "nbformat": 4,
 "nbformat_minor": 2
}
